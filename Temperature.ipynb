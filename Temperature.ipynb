{
 "cells": [
  {
   "cell_type": "code",
   "execution_count": 6,
   "id": "77038084",
   "metadata": {},
   "outputs": [],
   "source": [
    "import pandas as pd"
   ]
  },
  {
   "cell_type": "markdown",
   "id": "0495ab23",
   "metadata": {},
   "source": [
    "### Import Data"
   ]
  },
  {
   "cell_type": "code",
   "execution_count": 18,
   "id": "976fa4f9",
   "metadata": {},
   "outputs": [],
   "source": [
    "weather = pd.read_csv('https://raw.githubusercontent.com/opencampus-sh/einfuehrung-in-data-science-und-ml/main/wetter.csv')\n",
    "weather.set_index('Datum', inplace=True)\n",
    "weather.index = pd.to_datetime(weather.index)\n"
   ]
  },
  {
   "cell_type": "code",
   "execution_count": 19,
   "id": "27dea5ba",
   "metadata": {},
   "outputs": [
    {
     "data": {
      "text/html": [
       "<div>\n",
       "<style scoped>\n",
       "    .dataframe tbody tr th:only-of-type {\n",
       "        vertical-align: middle;\n",
       "    }\n",
       "\n",
       "    .dataframe tbody tr th {\n",
       "        vertical-align: top;\n",
       "    }\n",
       "\n",
       "    .dataframe thead th {\n",
       "        text-align: right;\n",
       "    }\n",
       "</style>\n",
       "<table border=\"1\" class=\"dataframe\">\n",
       "  <thead>\n",
       "    <tr style=\"text-align: right;\">\n",
       "      <th></th>\n",
       "      <th>Bewoelkung</th>\n",
       "      <th>Temperatur</th>\n",
       "      <th>Windgeschwindigkeit</th>\n",
       "      <th>Wettercode</th>\n",
       "    </tr>\n",
       "    <tr>\n",
       "      <th>Datum</th>\n",
       "      <th></th>\n",
       "      <th></th>\n",
       "      <th></th>\n",
       "      <th></th>\n",
       "    </tr>\n",
       "  </thead>\n",
       "  <tbody>\n",
       "    <tr>\n",
       "      <th>2012-01-01</th>\n",
       "      <td>8.0</td>\n",
       "      <td>9.8250</td>\n",
       "      <td>14</td>\n",
       "      <td>58.0</td>\n",
       "    </tr>\n",
       "    <tr>\n",
       "      <th>2012-01-02</th>\n",
       "      <td>7.0</td>\n",
       "      <td>7.4375</td>\n",
       "      <td>12</td>\n",
       "      <td>NaN</td>\n",
       "    </tr>\n",
       "    <tr>\n",
       "      <th>2012-01-03</th>\n",
       "      <td>8.0</td>\n",
       "      <td>5.5375</td>\n",
       "      <td>18</td>\n",
       "      <td>63.0</td>\n",
       "    </tr>\n",
       "    <tr>\n",
       "      <th>2012-01-04</th>\n",
       "      <td>4.0</td>\n",
       "      <td>5.6875</td>\n",
       "      <td>19</td>\n",
       "      <td>80.0</td>\n",
       "    </tr>\n",
       "    <tr>\n",
       "      <th>2012-01-05</th>\n",
       "      <td>6.0</td>\n",
       "      <td>5.3000</td>\n",
       "      <td>23</td>\n",
       "      <td>80.0</td>\n",
       "    </tr>\n",
       "    <tr>\n",
       "      <th>...</th>\n",
       "      <td>...</td>\n",
       "      <td>...</td>\n",
       "      <td>...</td>\n",
       "      <td>...</td>\n",
       "    </tr>\n",
       "    <tr>\n",
       "      <th>2019-07-28</th>\n",
       "      <td>3.0</td>\n",
       "      <td>23.3500</td>\n",
       "      <td>14</td>\n",
       "      <td>5.0</td>\n",
       "    </tr>\n",
       "    <tr>\n",
       "      <th>2019-07-29</th>\n",
       "      <td>6.0</td>\n",
       "      <td>25.2500</td>\n",
       "      <td>7</td>\n",
       "      <td>61.0</td>\n",
       "    </tr>\n",
       "    <tr>\n",
       "      <th>2019-07-30</th>\n",
       "      <td>7.0</td>\n",
       "      <td>20.7375</td>\n",
       "      <td>8</td>\n",
       "      <td>61.0</td>\n",
       "    </tr>\n",
       "    <tr>\n",
       "      <th>2019-07-31</th>\n",
       "      <td>6.0</td>\n",
       "      <td>20.4500</td>\n",
       "      <td>7</td>\n",
       "      <td>61.0</td>\n",
       "    </tr>\n",
       "    <tr>\n",
       "      <th>2019-08-01</th>\n",
       "      <td>5.0</td>\n",
       "      <td>21.0625</td>\n",
       "      <td>9</td>\n",
       "      <td>61.0</td>\n",
       "    </tr>\n",
       "  </tbody>\n",
       "</table>\n",
       "<p>2601 rows × 4 columns</p>\n",
       "</div>"
      ],
      "text/plain": [
       "            Bewoelkung  Temperatur  Windgeschwindigkeit  Wettercode\n",
       "Datum                                                              \n",
       "2012-01-01         8.0      9.8250                   14        58.0\n",
       "2012-01-02         7.0      7.4375                   12         NaN\n",
       "2012-01-03         8.0      5.5375                   18        63.0\n",
       "2012-01-04         4.0      5.6875                   19        80.0\n",
       "2012-01-05         6.0      5.3000                   23        80.0\n",
       "...                ...         ...                  ...         ...\n",
       "2019-07-28         3.0     23.3500                   14         5.0\n",
       "2019-07-29         6.0     25.2500                    7        61.0\n",
       "2019-07-30         7.0     20.7375                    8        61.0\n",
       "2019-07-31         6.0     20.4500                    7        61.0\n",
       "2019-08-01         5.0     21.0625                    9        61.0\n",
       "\n",
       "[2601 rows x 4 columns]"
      ]
     },
     "execution_count": 19,
     "metadata": {},
     "output_type": "execute_result"
    }
   ],
   "source": [
    "weather"
   ]
  },
  {
   "cell_type": "code",
   "execution_count": 20,
   "id": "12968cfa",
   "metadata": {},
   "outputs": [
    {
     "data": {
      "text/plain": [
       "<Axes: xlabel='Datum'>"
      ]
     },
     "execution_count": 20,
     "metadata": {},
     "output_type": "execute_result"
    },
    {
     "data": {
      "image/png": "[encoded data removed]",
      "text/plain": [
       "<Figure size 640x480 with 1 Axes>"
      ]
     },
     "metadata": {},
     "output_type": "display_data"
    }
   ],
   "source": [
    "weather['Temperatur'].plot()"
   ]
  },
  {
   "cell_type": "markdown",
   "id": "111d8479",
   "metadata": {},
   "source": [
    "### Calc Mean Temp"
   ]
  },
  {
   "cell_type": "code",
   "execution_count": 21,
   "id": "4cb888bb",
   "metadata": {},
   "outputs": [
    {
     "data": {
      "text/plain": [
       "np.float64(12.099585595540177)"
      ]
     },
     "execution_count": 21,
     "metadata": {},
     "output_type": "execute_result"
    }
   ],
   "source": [
    "mean_temp =  weather['Temperatur'].mean()\n",
    "mean_temp"
   ]
  },
  {
   "cell_type": "code",
   "execution_count": 48,
   "id": "fe5cafcd",
   "metadata": {},
   "outputs": [
    {
     "data": {
      "text/plain": [
       "<Figure size 1200x600 with 0 Axes>"
      ]
     },
     "metadata": {},
     "output_type": "display_data"
    },
    {
     "data": {
      "image/png": "[encoded data removed]",
      "text/plain": [
       "<Figure size 640x480 with 1 Axes>"
      ]
     },
     "metadata": {},
     "output_type": "display_data"
    }
   ],
   "source": [
    "import matplotlib.pyplot as plt\n",
    "\n",
    "#zusätzlicher Monats-Spalte\n",
    "df = weather\n",
    "df['Monat'] = df.index.month\n",
    "\n",
    "# Boxplot: Temperaturmittel pro Monat über alle Jahre\n",
    "plt.figure(figsize=(12, 6))\n",
    "df.boxplot(column='Temperatur', by='Monat')\n",
    "plt.title('Monthly Mean Temperature')\n",
    "plt.suptitle('')\n",
    "plt.xlabel('Month')\n",
    "plt.ylabel('Temperature (°C)')\n",
    "plt.grid(True)\n",
    "plt.show()"
   ]
  },
  {
   "cell_type": "code",
   "execution_count": null,
   "id": "09c455b2",
   "metadata": {},
   "outputs": [
    {
     "data": {
      "text/plain": [
       "Monat\n",
       "1      2.864113\n",
       "2      3.876916\n",
       "3      7.360657\n",
       "4     10.678464\n",
       "5     15.244362\n",
       "6     18.480910\n",
       "7     20.751142\n",
       "8     20.284715\n",
       "9     16.944652\n",
       "10    12.613336\n",
       "11     7.398144\n",
       "12     5.096247\n",
       "Name: Temperatur, dtype: float64"
      ]
     },
     "execution_count": 53,
     "metadata": {},
     "output_type": "execute_result"
    }
   ],
   "source": [
    "mon_mean_temp = df['Temperatur'].groupby(df['Monat']).mean()\n",
    "mon_mean_temp[7]"
   ]
  },
  {
   "cell_type": "code",
   "execution_count": 61,
   "id": "d301de85",
   "metadata": {},
   "outputs": [
    {
     "name": "stdout",
     "output_type": "stream",
     "text": [
      "t-Wert: -6.192\n",
      "p-Wert: 0.00002\n"
     ]
    },
    {
     "name": "stderr",
     "output_type": "stream",
     "text": [
      "/tmp/ipykernel_3348/4141317595.py:4: FutureWarning: 'M' is deprecated and will be removed in a future version, please use 'ME' instead.\n",
      "  mon_mean = weather['Temperatur'].resample('M').mean()\n"
     ]
    }
   ],
   "source": [
    "from scipy.stats import ttest_ind\n",
    "\n",
    "# Monatsmittel pro Jahr berechnen\n",
    "mon_mean = weather['Temperatur'].resample('M').mean()\n",
    "mon_mean.index = mon_mean.index.to_period('M')\n",
    "\n",
    "# DataFrame mit Monatsnummer\n",
    "df = mon_mean.to_frame()\n",
    "df['Monat'] = df.index.month\n",
    "\n",
    "# Nur Mai (Monat 5) und Juli (Monat 7)\n",
    "mai = df[df['Monat'] == 5]['Temperatur']\n",
    "juli = df[df['Monat'] == 7]['Temperatur']\n",
    "\n",
    "# t-Test durchführen\n",
    "t_stat, p_value = ttest_ind(mai, juli, equal_var=False)  # Welch's t-test\n",
    "\n",
    "print(f\"t-Wert: {t_stat:.3f}\")\n",
    "print(f\"p-Wert: {p_value:.5f}\")"
   ]
  },
  {
   "cell_type": "code",
   "execution_count": 58,
   "id": "c360e3eb",
   "metadata": {},
   "outputs": [
    {
     "data": {
      "text/html": [
       "<div>\n",
       "<style scoped>\n",
       "    .dataframe tbody tr th:only-of-type {\n",
       "        vertical-align: middle;\n",
       "    }\n",
       "\n",
       "    .dataframe tbody tr th {\n",
       "        vertical-align: top;\n",
       "    }\n",
       "\n",
       "    .dataframe thead th {\n",
       "        text-align: right;\n",
       "    }\n",
       "</style>\n",
       "<table border=\"1\" class=\"dataframe\">\n",
       "  <thead>\n",
       "    <tr style=\"text-align: right;\">\n",
       "      <th></th>\n",
       "      <th>Temperatur</th>\n",
       "      <th>Monat</th>\n",
       "    </tr>\n",
       "    <tr>\n",
       "      <th>Datum</th>\n",
       "      <th></th>\n",
       "      <th></th>\n",
       "    </tr>\n",
       "  </thead>\n",
       "  <tbody>\n",
       "    <tr>\n",
       "      <th>2012-01</th>\n",
       "      <td>3.395276</td>\n",
       "      <td>1</td>\n",
       "    </tr>\n",
       "    <tr>\n",
       "      <th>2012-02</th>\n",
       "      <td>1.070259</td>\n",
       "      <td>2</td>\n",
       "    </tr>\n",
       "    <tr>\n",
       "      <th>2012-03</th>\n",
       "      <td>8.948790</td>\n",
       "      <td>3</td>\n",
       "    </tr>\n",
       "    <tr>\n",
       "      <th>2012-04</th>\n",
       "      <td>9.092500</td>\n",
       "      <td>4</td>\n",
       "    </tr>\n",
       "    <tr>\n",
       "      <th>2012-05</th>\n",
       "      <td>15.128687</td>\n",
       "      <td>5</td>\n",
       "    </tr>\n",
       "    <tr>\n",
       "      <th>...</th>\n",
       "      <td>...</td>\n",
       "      <td>...</td>\n",
       "    </tr>\n",
       "    <tr>\n",
       "      <th>2019-04</th>\n",
       "      <td>11.494766</td>\n",
       "      <td>4</td>\n",
       "    </tr>\n",
       "    <tr>\n",
       "      <th>2019-05</th>\n",
       "      <td>13.048387</td>\n",
       "      <td>5</td>\n",
       "    </tr>\n",
       "    <tr>\n",
       "      <th>2019-06</th>\n",
       "      <td>20.826250</td>\n",
       "      <td>6</td>\n",
       "    </tr>\n",
       "    <tr>\n",
       "      <th>2019-07</th>\n",
       "      <td>19.852823</td>\n",
       "      <td>7</td>\n",
       "    </tr>\n",
       "    <tr>\n",
       "      <th>2019-08</th>\n",
       "      <td>21.062500</td>\n",
       "      <td>8</td>\n",
       "    </tr>\n",
       "  </tbody>\n",
       "</table>\n",
       "<p>92 rows × 2 columns</p>\n",
       "</div>"
      ],
      "text/plain": [
       "         Temperatur  Monat\n",
       "Datum                     \n",
       "2012-01    3.395276      1\n",
       "2012-02    1.070259      2\n",
       "2012-03    8.948790      3\n",
       "2012-04    9.092500      4\n",
       "2012-05   15.128687      5\n",
       "...             ...    ...\n",
       "2019-04   11.494766      4\n",
       "2019-05   13.048387      5\n",
       "2019-06   20.826250      6\n",
       "2019-07   19.852823      7\n",
       "2019-08   21.062500      8\n",
       "\n",
       "[92 rows x 2 columns]"
      ]
     },
     "execution_count": 58,
     "metadata": {},
     "output_type": "execute_result"
    }
   ],
   "source": [
    "df"
   ]
  },
  {
   "cell_type": "code",
   "execution_count": null,
   "id": "d4c95d77",
   "metadata": {},
   "outputs": [],
   "source": []
  }
 ],
 "metadata": {
  "kernelspec": {
   "display_name": "Python 3",
   "language": "python",
   "name": "python3"
  },
  "language_info": {
   "codemirror_mode": {
    "name": "ipython",
    "version": 3
   },
   "file_extension": ".py",
   "mimetype": "text/x-python",
   "name": "python",
   "nbconvert_exporter": "python",
   "pygments_lexer": "ipython3",
   "version": "3.12.1"
  }
 },
 "nbformat": 4,
 "nbformat_minor": 5
}
